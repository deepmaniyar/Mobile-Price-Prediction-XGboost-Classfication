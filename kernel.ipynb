{
  "cells": [
    {
      "metadata": {
        "_cell_guid": "79c7e3d0-c299-4dcb-8224-4455121ee9b0",
        "collapsed": true,
        "_uuid": "d629ff2d2480ee46fbb7e2d37f6b5fab8052498a",
        "trusted": false
      },
      "cell_type": "markdown",
      "source": "**Mobile phone price range prediction - Classification Problem - XGBoost**\n\nTo learn more about XGboost - https://www.analyticsvidhya.com/blog/2016/03/complete-guide-parameter-tuning-xgboost-with-codes-python/\n\n*I wanted to learn XGBoost technique which has become a state of the art machine learning model for both Classification and Regression for a lot of problems*\n\nHence, I used this simple dataset to explore how it compares with other models (from other kernels where highest accuracy is 91%)\n\nJust a gist of the data again \n\nid:ID\nbattery_power:Total energy a battery can store in one time measured in mAh\nblue:Has bluetooth or not\nclock_speed:speed at which microprocessor executes instructions\ndual_sim:Has dual sim support or not\nfc:Front Camera mega pixels\nfour_g:Has 4G or not\nint_memory:Internal Memory in Gigabytes\nm_dep:Mobile Depth in cm\nmobile_wt:Weight of mobile phone\nn_cores:Number of cores of processor\npc:Primary Camera mega pixels\npx_height:Pixel Resolution Height\npx_width:Pixel Resolution Width\nram:Random Access Memory in Megabytes\nsc_h:Screen Height of mobile in cm\nsc_w:Screen Width of mobile in cm\ntalk_time:longest time that a single battery charge will last when you are\nthree_g:Has 3G or not\ntouch_screen:Has touch screen or not\nwifi:Has wifi or not\n\n\n"
    },
    {
      "metadata": {
        "trusted": true,
        "collapsed": true,
        "_uuid": "8f006aa3080a8717ffc2ce08f44ef937303a1c89"
      },
      "cell_type": "code",
      "source": "#Importing the necessary packages  \n\nimport pandas as pd\nimport numpy as np\nimport xgboost as xgb\nimport matplotlib.pyplot as plt\nfrom sklearn.model_selection import train_test_split\nfrom graphviz import *",
      "execution_count": null,
      "outputs": []
    },
    {
      "metadata": {
        "trusted": true,
        "_uuid": "7ffcad86106c46efc2ae7db2f7bcac985233d336",
        "collapsed": true
      },
      "cell_type": "code",
      "source": "#Reading the data\ndata = pd.read_csv('../input/train.csv')\n#Splitting into X and y as per the required for Scikit learn packages\nX, y = data.iloc[:,:-1], data.iloc[:,-1]\n\n#Splitting the dataset into training and testing\nX_train, X_test, y_train, y_test= train_test_split(X, y, test_size=0.2, random_state=123)\n",
      "execution_count": null,
      "outputs": []
    },
    {
      "metadata": {
        "trusted": true,
        "collapsed": true,
        "_uuid": "a520c9e6ce2d67aeea20e4fba4716ce05ca88086"
      },
      "cell_type": "code",
      "source": "#Using the XGBoost Classifier. I have used just a few combinations here and there without GridSearch or RandomSearch because the dataset was pretty small\nxg_cl = xgb.XGBClassifier(objective='multi:softmax', n_estimators=200,seed=123,learning_rate=0.15,max_depth=5,colsample_bytree=1,subsample=1)",
      "execution_count": null,
      "outputs": []
    },
    {
      "metadata": {
        "_uuid": "0d5e8c665b85b1f2010a5720b9f5d0004ed53730"
      },
      "cell_type": "markdown",
      "source": "**Explaining the parameters**\n\n* Objective - what is your objective for this particular problem, here we are having a multiclass classficiation problem hence multi softmax\n* n_estimators - number of trees we are using for classification problem \n* learning_rate - how big a step to take\n* max_depth - maximum depth of each trees\n* colsample_bytree - how much percent of the features to be by each tree\n* subsample - How much percent of the data used by each tree\n\n\n"
    },
    {
      "metadata": {
        "trusted": true,
        "_uuid": "cdd4d548bd9d541bb10cf0549453a79c0a54391e",
        "collapsed": true
      },
      "cell_type": "code",
      "source": "#fitting the model\nxg_cl.fit(X_train,y_train)",
      "execution_count": null,
      "outputs": []
    },
    {
      "metadata": {
        "trusted": true,
        "_uuid": "cc41b78094dc66a74e3a3fa1ad6bae5d1d00b914",
        "collapsed": true
      },
      "cell_type": "code",
      "source": "preds = xg_cl.predict(X_test)",
      "execution_count": null,
      "outputs": []
    },
    {
      "metadata": {
        "trusted": true,
        "_uuid": "df8b4c04f23acb4dc20f8d06e8d9ac7600a9ccd4",
        "collapsed": true
      },
      "cell_type": "code",
      "source": "accuracy = float(np.sum(preds==y_test))/y_test.shape[0]\nprint(\"accuracy: %f\" % (accuracy))",
      "execution_count": null,
      "outputs": []
    },
    {
      "metadata": {
        "trusted": true,
        "_uuid": "0830383af5d216f0483ba4cfd509674698dc8045",
        "collapsed": true
      },
      "cell_type": "code",
      "source": "#XGBoost in the package itself gives us the feature importance to understand how each features compares\nxgb.plot_importance(xg_cl)\nplt.show()",
      "execution_count": null,
      "outputs": []
    },
    {
      "metadata": {
        "_uuid": "dc43bc7761bb0073d0827a5ce2e0db22d139105d"
      },
      "cell_type": "markdown",
      "source": "As you can see (and as well all do), RAM and Battery Power play a very important role in the total pricing of the phone and since most phone already have 3G it doesnt seem to have that much effect on the total pricing\n"
    },
    {
      "metadata": {
        "trusted": true,
        "collapsed": true,
        "_uuid": "ef3a88fcdc7a5f7db11c944041f1a36b00ca4fe8"
      },
      "cell_type": "code",
      "source": "#trying on the test data\ntestdata =pd.read_csv('../input/test.csv')",
      "execution_count": null,
      "outputs": []
    },
    {
      "metadata": {
        "trusted": true,
        "_uuid": "697a0f3b5cf95eb93fbe566538c2c139774aa95e",
        "collapsed": true
      },
      "cell_type": "code",
      "source": "#Since there is an id column we have to drop it so it is not used for the final predcition\ntestdata=testdata.drop('id',axis=1)\ntestdata.head()",
      "execution_count": null,
      "outputs": []
    },
    {
      "metadata": {
        "trusted": true,
        "collapsed": true,
        "_uuid": "6f4f7c01b34b1425ca01d25e9ec90da6757ff056"
      },
      "cell_type": "code",
      "source": "#test prediction\ntest_prediction=xg_cl.predict(testdata)",
      "execution_count": null,
      "outputs": []
    },
    {
      "metadata": {
        "trusted": true,
        "collapsed": true,
        "_uuid": "150295f5d8e92568c44230cc45931c56f2a36052"
      },
      "cell_type": "code",
      "source": "#putting the prediction in a column \ntestdata['price_range']= test_prediction",
      "execution_count": null,
      "outputs": []
    },
    {
      "metadata": {
        "trusted": true,
        "_uuid": "b69c915c9a774cc20046240a19d5d55a9393beba",
        "collapsed": true
      },
      "cell_type": "code",
      "source": "testdata.head()",
      "execution_count": null,
      "outputs": []
    },
    {
      "metadata": {
        "trusted": true,
        "collapsed": true,
        "_uuid": "31955737a0935feac181bbfb3d0a2e0116a8913a"
      },
      "cell_type": "code",
      "source": "",
      "execution_count": null,
      "outputs": []
    }
  ],
  "metadata": {
    "kernelspec": {
      "display_name": "Python 3",
      "language": "python",
      "name": "python3"
    },
    "language_info": {
      "name": "python",
      "version": "3.6.5",
      "mimetype": "text/x-python",
      "codemirror_mode": {
        "name": "ipython",
        "version": 3
      },
      "pygments_lexer": "ipython3",
      "nbconvert_exporter": "python",
      "file_extension": ".py"
    }
  },
  "nbformat": 4,
  "nbformat_minor": 1
}