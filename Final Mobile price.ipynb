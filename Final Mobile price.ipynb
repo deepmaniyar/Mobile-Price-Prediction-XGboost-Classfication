{
 "cells": [
  {
   "cell_type": "markdown",
   "metadata": {
    "_cell_guid": "79c7e3d0-c299-4dcb-8224-4455121ee9b0",
    "_uuid": "d629ff2d2480ee46fbb7e2d37f6b5fab8052498a",
    "collapsed": true
   },
   "source": [
    "**Mobile phone price range prediction - Classification Problem - XGBoost**\n",
    "\n",
    "To learn more about XGboost - https://www.analyticsvidhya.com/blog/2016/03/complete-guide-parameter-tuning-xgboost-with-codes-python/\n",
    "\n",
    "*I wanted to learn XGBoost technique which has become a state of the art machine learning model for both Classification and Regression for a lot of problems*\n",
    "\n",
    "Hence, I used this simple dataset to explore how it compares with other models (from other kernels where highest accuracy is 91%)\n",
    "\n",
    "Just a gist of the data again \n",
    "\n",
    "id:ID\n",
    "battery_power:Total energy a battery can store in one time measured in mAh\n",
    "blue:Has bluetooth or not\n",
    "clock_speed:speed at which microprocessor executes instructions\n",
    "dual_sim:Has dual sim support or not\n",
    "fc:Front Camera mega pixels\n",
    "four_g:Has 4G or not\n",
    "int_memory:Internal Memory in Gigabytes\n",
    "m_dep:Mobile Depth in cm\n",
    "mobile_wt:Weight of mobile phone\n",
    "n_cores:Number of cores of processor\n",
    "pc:Primary Camera mega pixels\n",
    "px_height:Pixel Resolution Height\n",
    "px_width:Pixel Resolution Width\n",
    "ram:Random Access Memory in Megabytes\n",
    "sc_h:Screen Height of mobile in cm\n",
    "sc_w:Screen Width of mobile in cm\n",
    "talk_time:longest time that a single battery charge will last when you are\n",
    "three_g:Has 3G or not\n",
    "touch_screen:Has touch screen or not\n",
    "wifi:Has wifi or not\n",
    "\n",
    "\n"
   ]
  },
  {
   "cell_type": "code",
   "execution_count": 1,
   "metadata": {
    "_uuid": "8f006aa3080a8717ffc2ce08f44ef937303a1c89"
   },
   "outputs": [],
   "source": [
    "#Importing the necessary packages  \n",
    "\n",
    "import pandas as pd\n",
    "import numpy as np\n",
    "import xgboost as xgb\n",
    "import matplotlib.pyplot as plt\n",
    "from sklearn.model_selection import train_test_split\n",
    "from graphviz import *"
   ]
  },
  {
   "cell_type": "code",
   "execution_count": 2,
   "metadata": {
    "_uuid": "7ffcad86106c46efc2ae7db2f7bcac985233d336"
   },
   "outputs": [],
   "source": [
    "#Reading the data\n",
    "data = pd.read_csv('train.csv')\n",
    "#Splitting into X and y as per the required for Scikit learn packages\n",
    "X, y = data.iloc[:,:-1], data.iloc[:,-1]\n",
    "\n",
    "#Splitting the dataset into training and testing\n",
    "X_train, X_test, y_train, y_test= train_test_split(X, y, test_size=0.2, random_state=123)\n"
   ]
  },
  {
   "cell_type": "code",
   "execution_count": 3,
   "metadata": {
    "_uuid": "a520c9e6ce2d67aeea20e4fba4716ce05ca88086"
   },
   "outputs": [],
   "source": [
    "#Using the XGBoost Classifier. I have used just a few combinations here and there without GridSearch or RandomSearch because the dataset was pretty small\n",
    "xg_cl = xgb.XGBClassifier(objective='multi:softmax', n_estimators=200,seed=123,learning_rate=0.15,max_depth=5,colsample_bytree=0.75,subsample=0.75)"
   ]
  },
  {
   "cell_type": "markdown",
   "metadata": {
    "_uuid": "0d5e8c665b85b1f2010a5720b9f5d0004ed53730"
   },
   "source": [
    "**Explaining the parameters**\n",
    "\n",
    "* Objective - what is your objective for this particular problem, here we are having a multiclass classficiation problem hence multi softmax\n",
    "* n_estimators - number of trees we are using for classification problem \n",
    "* learning_rate - how big a step to take\n",
    "* max_depth - maximum depth of each trees\n",
    "* colsample_bytree - how much percent of the features to be by each tree\n",
    "* subsample - How much percent of the data used by each tree\n",
    "\n",
    "\n"
   ]
  },
  {
   "cell_type": "code",
   "execution_count": 4,
   "metadata": {
    "_uuid": "cdd4d548bd9d541bb10cf0549453a79c0a54391e"
   },
   "outputs": [
    {
     "data": {
      "text/plain": [
       "XGBClassifier(base_score=0.5, booster='gbtree', colsample_bylevel=1,\n",
       "       colsample_bytree=0.75, gamma=0, learning_rate=0.15,\n",
       "       max_delta_step=0, max_depth=5, min_child_weight=1, missing=None,\n",
       "       n_estimators=200, n_jobs=1, nthread=None,\n",
       "       objective='multi:softprob', random_state=0, reg_alpha=0,\n",
       "       reg_lambda=1, scale_pos_weight=1, seed=123, silent=True,\n",
       "       subsample=0.75)"
      ]
     },
     "execution_count": 4,
     "metadata": {},
     "output_type": "execute_result"
    }
   ],
   "source": [
    "#fitting the model\n",
    "xg_cl.fit(X_train,y_train)"
   ]
  },
  {
   "cell_type": "code",
   "execution_count": 5,
   "metadata": {
    "_uuid": "cc41b78094dc66a74e3a3fa1ad6bae5d1d00b914"
   },
   "outputs": [],
   "source": [
    "preds = xg_cl.predict(X_test)"
   ]
  },
  {
   "cell_type": "code",
   "execution_count": 6,
   "metadata": {
    "_uuid": "df8b4c04f23acb4dc20f8d06e8d9ac7600a9ccd4"
   },
   "outputs": [
    {
     "name": "stdout",
     "output_type": "stream",
     "text": [
      "accuracy: 0.935000\n"
     ]
    }
   ],
   "source": [
    "accuracy = float(np.sum(preds==y_test))/y_test.shape[0]\n",
    "print(\"accuracy: %f\" % (accuracy))"
   ]
  },
  {
   "cell_type": "code",
   "execution_count": 7,
   "metadata": {
    "_uuid": "0830383af5d216f0483ba4cfd509674698dc8045"
   },
   "outputs": [
    {
     "data": {
      "image/png": "[encoded data removed]",
      "text/plain": [
       "<Figure size 432x288 with 1 Axes>"
      ]
     },
     "metadata": {},
     "output_type": "display_data"
    }
   ],
   "source": [
    "#XGBoost in the package itself gives us the feature importance to understand how each features compares\n",
    "xgb.plot_importance(xg_cl)\n",
    "plt.show()"
   ]
  },
  {
   "cell_type": "markdown",
   "metadata": {
    "_uuid": "dc43bc7761bb0073d0827a5ce2e0db22d139105d"
   },
   "source": [
    "As you can see (and as well all do), RAM and Battery Power play a very important role in the total pricing of the phone and since most phone already have 3G it doesnt seem to have that much effect on the total pricing\n"
   ]
  },
  {
   "cell_type": "code",
   "execution_count": null,
   "metadata": {
    "_uuid": "31955737a0935feac181bbfb3d0a2e0116a8913a"
   },
   "outputs": [],
   "source": []
  }
 ],
 "metadata": {
  "kernelspec": {
   "display_name": "Python 3",
   "language": "python",
   "name": "python3"
  },
  "language_info": {
   "codemirror_mode": {
    "name": "ipython",
    "version": 3
   },
   "file_extension": ".py",
   "mimetype": "text/x-python",
   "name": "python",
   "nbconvert_exporter": "python",
   "pygments_lexer": "ipython3",
   "version": "3.6.4"
  }
 },
 "nbformat": 4,
 "nbformat_minor": 1
}
